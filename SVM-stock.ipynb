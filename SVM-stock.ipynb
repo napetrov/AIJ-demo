{
 "cells": [
  {
   "cell_type": "markdown",
   "id": "52a43409",
   "metadata": {},
   "source": [
    "# Stock version\n",
    "This notebook is based on Kaggle solution https://www.kaggle.com/napetrov/tps04-svm-with-scikit-learn-intelex for Tabular Playground Series - Apr 2021"
   ]
  },
  {
   "cell_type": "code",
   "execution_count": 1,
   "id": "3f1eee9b",
   "metadata": {},
   "outputs": [],
   "source": [
    "import os\n",
    "import numpy as np\n",
    "import pandas as pd\n",
    "\n",
    "import matplotlib.pyplot as plt\n",
    "\n",
    "from sklearn.svm import LinearSVC\n",
    "from sklearn.svm import SVC\n",
    "from sklearn.linear_model import SGDClassifier\n",
    "\n",
    "from sklearn.impute import SimpleImputer\n",
    "from sklearn.metrics import accuracy_score\n",
    "\n",
    "from sklearn.preprocessing import LabelEncoder\n",
    "from sklearn.preprocessing import OrdinalEncoder\n",
    "from sklearn.preprocessing import OneHotEncoder\n",
    "from sklearn.preprocessing import StandardScaler\n",
    "\n",
    "from sklearn.model_selection import KFold\n",
    "from sklearn.model_selection import train_test_split"
   ]
  },
  {
   "cell_type": "markdown",
   "id": "9dbf75b2",
   "metadata": {},
   "source": [
    "Next set of cell read data and perform feature engineering operations"
   ]
  },
  {
   "cell_type": "code",
   "execution_count": 2,
   "id": "1ec38e16",
   "metadata": {},
   "outputs": [],
   "source": [
    "train = pd.read_csv('./SVM/train.csv', index_col='PassengerId')\n",
    "test = pd.read_csv('./SVM/test.csv', index_col='PassengerId')\n",
    "\n",
    "target = train.pop('Survived')"
   ]
  },
  {
   "cell_type": "code",
   "execution_count": 3,
   "id": "92773384",
   "metadata": {},
   "outputs": [],
   "source": [
    "train.drop(['Name', 'Ticket', 'Cabin'], axis=1, inplace=True)\n",
    "test.drop(['Name', 'Ticket', 'Cabin'], axis=1, inplace=True)"
   ]
  },
  {
   "cell_type": "code",
   "execution_count": 4,
   "id": "982ca33d",
   "metadata": {},
   "outputs": [],
   "source": [
    "test_prepared = test.copy()\n",
    "train_prepared = train.copy()\n",
    "\n",
    "test_prepared['Age'].fillna((train['Age'].median()), inplace=True)\n",
    "train_prepared['Age'].fillna((train['Age'].median()), inplace=True)\n",
    "\n",
    "test_prepared['Fare'].fillna((train['Fare'].median()), inplace=True)\n",
    "train_prepared['Fare'].fillna((train['Fare'].median()), inplace=True)\n",
    "\n",
    "test_prepared['Embarked'].fillna('S', inplace=True)\n",
    "train_prepared['Embarked'].fillna('S', inplace=True)\n"
   ]
  },
  {
   "cell_type": "code",
   "execution_count": 5,
   "id": "8b512efe",
   "metadata": {},
   "outputs": [],
   "source": [
    "for col in ['Pclass', 'Sex', 'Embarked']:\n",
    "    le = LabelEncoder()\n",
    "    le.fit(train_prepared[col])\n",
    "    train_prepared[col] = le.transform(train_prepared[col])\n",
    "    test_prepared[col] = le.transform(test_prepared[col])"
   ]
  },
  {
   "cell_type": "code",
   "execution_count": 6,
   "id": "3a7bfc86",
   "metadata": {},
   "outputs": [
    {
     "data": {
      "text/html": [
       "<div>\n",
       "<style scoped>\n",
       "    .dataframe tbody tr th:only-of-type {\n",
       "        vertical-align: middle;\n",
       "    }\n",
       "\n",
       "    .dataframe tbody tr th {\n",
       "        vertical-align: top;\n",
       "    }\n",
       "\n",
       "    .dataframe thead th {\n",
       "        text-align: right;\n",
       "    }\n",
       "</style>\n",
       "<table border=\"1\" class=\"dataframe\">\n",
       "  <thead>\n",
       "    <tr style=\"text-align: right;\">\n",
       "      <th></th>\n",
       "      <th>Pclass</th>\n",
       "      <th>Sex</th>\n",
       "      <th>Age</th>\n",
       "      <th>SibSp</th>\n",
       "      <th>Parch</th>\n",
       "      <th>Fare</th>\n",
       "      <th>Embarked</th>\n",
       "    </tr>\n",
       "    <tr>\n",
       "      <th>PassengerId</th>\n",
       "      <th></th>\n",
       "      <th></th>\n",
       "      <th></th>\n",
       "      <th></th>\n",
       "      <th></th>\n",
       "      <th></th>\n",
       "      <th></th>\n",
       "    </tr>\n",
       "  </thead>\n",
       "  <tbody>\n",
       "    <tr>\n",
       "      <th>0</th>\n",
       "      <td>0</td>\n",
       "      <td>1</td>\n",
       "      <td>39.00</td>\n",
       "      <td>2</td>\n",
       "      <td>0</td>\n",
       "      <td>27.14</td>\n",
       "      <td>2</td>\n",
       "    </tr>\n",
       "    <tr>\n",
       "      <th>1</th>\n",
       "      <td>2</td>\n",
       "      <td>1</td>\n",
       "      <td>39.00</td>\n",
       "      <td>0</td>\n",
       "      <td>0</td>\n",
       "      <td>13.35</td>\n",
       "      <td>2</td>\n",
       "    </tr>\n",
       "    <tr>\n",
       "      <th>2</th>\n",
       "      <td>2</td>\n",
       "      <td>1</td>\n",
       "      <td>0.33</td>\n",
       "      <td>1</td>\n",
       "      <td>2</td>\n",
       "      <td>71.29</td>\n",
       "      <td>2</td>\n",
       "    </tr>\n",
       "    <tr>\n",
       "      <th>3</th>\n",
       "      <td>2</td>\n",
       "      <td>1</td>\n",
       "      <td>19.00</td>\n",
       "      <td>0</td>\n",
       "      <td>0</td>\n",
       "      <td>13.04</td>\n",
       "      <td>2</td>\n",
       "    </tr>\n",
       "    <tr>\n",
       "      <th>4</th>\n",
       "      <td>2</td>\n",
       "      <td>1</td>\n",
       "      <td>25.00</td>\n",
       "      <td>0</td>\n",
       "      <td>0</td>\n",
       "      <td>7.76</td>\n",
       "      <td>2</td>\n",
       "    </tr>\n",
       "  </tbody>\n",
       "</table>\n",
       "</div>"
      ],
      "text/plain": [
       "             Pclass  Sex    Age  SibSp  Parch   Fare  Embarked\n",
       "PassengerId                                                   \n",
       "0                 0    1  39.00      2      0  27.14         2\n",
       "1                 2    1  39.00      0      0  13.35         2\n",
       "2                 2    1   0.33      1      2  71.29         2\n",
       "3                 2    1  19.00      0      0  13.04         2\n",
       "4                 2    1  25.00      0      0   7.76         2"
      ]
     },
     "execution_count": 6,
     "metadata": {},
     "output_type": "execute_result"
    }
   ],
   "source": [
    "train_prepared.head()\n"
   ]
  },
  {
   "cell_type": "code",
   "execution_count": 7,
   "id": "85abef55",
   "metadata": {},
   "outputs": [],
   "source": [
    "train_prepared_scaled = train_prepared.copy()\n",
    "test_prepared_scaled = test_prepared.copy()\n",
    "\n",
    "scaler = StandardScaler()\n",
    "scaler.fit(train_prepared)\n",
    "train_prepared_scaled = scaler.transform(train_prepared_scaled)\n",
    "test_prepared_scaled = scaler.transform(test_prepared_scaled)\n",
    "\n",
    "train_prepared_scaled = pd.DataFrame(train_prepared_scaled, columns=train_prepared.columns)\n",
    "test_prepared_scaled = pd.DataFrame(test_prepared_scaled, columns=train_prepared.columns)\n"
   ]
  },
  {
   "cell_type": "code",
   "execution_count": 8,
   "id": "f4ed34bb",
   "metadata": {},
   "outputs": [],
   "source": [
    "X_train, X_valid, y_train, y_valid = train_test_split(train_prepared_scaled, target, test_size=0.1, random_state=0)"
   ]
  },
  {
   "cell_type": "markdown",
   "id": "41af28bd",
   "metadata": {},
   "source": [
    "And here we start trining for SVM with RBF kernel - it would take a while to complete"
   ]
  },
  {
   "cell_type": "code",
   "execution_count": 9,
   "id": "0e3f6d16",
   "metadata": {},
   "outputs": [
    {
     "name": "stdout",
     "output_type": "stream",
     "text": [
      "CPU times: user 12min 19s, sys: 311 ms, total: 12min 19s\n",
      "Wall time: 12min 20s\n"
     ]
    },
    {
     "data": {
      "text/plain": [
       "0.7614"
      ]
     },
     "execution_count": 9,
     "metadata": {},
     "output_type": "execute_result"
    }
   ],
   "source": [
    "%%time\n",
    "svc_kernel_rbf = SVC(kernel='rbf', random_state=0, C=0.01)\n",
    "svc_kernel_rbf.fit(X_train, y_train)\n",
    "y_pred = svc_kernel_rbf.predict(X_valid)\n",
    "accuracy_score(y_pred, y_valid)"
   ]
  },
  {
   "cell_type": "code",
   "execution_count": 10,
   "id": "719cb6d4",
   "metadata": {},
   "outputs": [
    {
     "name": "stdout",
     "output_type": "stream",
     "text": [
      "CPU times: user 5min 34s, sys: 44 ms, total: 5min 34s\n",
      "Wall time: 5min 34s\n"
     ]
    }
   ],
   "source": [
    "%%time\n",
    "final_pred = svc_kernel_rbf.predict(test_prepared_scaled)"
   ]
  }
 ],
 "metadata": {
  "kernelspec": {
   "display_name": "Python 3 (ipykernel)",
   "language": "python",
   "name": "python3"
  },
  "language_info": {
   "codemirror_mode": {
    "name": "ipython",
    "version": 3
   },
   "file_extension": ".py",
   "mimetype": "text/x-python",
   "name": "python",
   "nbconvert_exporter": "python",
   "pygments_lexer": "ipython3",
   "version": "3.7.10"
  }
 },
 "nbformat": 4,
 "nbformat_minor": 5
}
