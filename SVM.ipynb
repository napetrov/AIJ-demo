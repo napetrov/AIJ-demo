{
 "cells": [
  {
   "cell_type": "markdown",
   "id": "e8f55419",
   "metadata": {},
   "source": [
    "# Accelerated version\n",
    "\n",
    "In this case we are using Intel(R) Extension for Scikit-learn(https://github.com/intel/scikit-learn-intelex) that accelerate execution of Scikit-learn calls.\n",
    "2 lines below is the only difference from previous kernel:\n"
   ]
  },
  {
   "cell_type": "code",
   "execution_count": 1,
   "id": "b93aaa2a",
   "metadata": {},
   "outputs": [
    {
     "name": "stderr",
     "output_type": "stream",
     "text": [
      "Intel(R) Extension for Scikit-learn* enabled (https://github.com/intel/scikit-learn-intelex)\n"
     ]
    }
   ],
   "source": [
    "from sklearnex import patch_sklearn\n",
    "patch_sklearn()"
   ]
  },
  {
   "cell_type": "markdown",
   "id": "c74ac6c3",
   "metadata": {},
   "source": [
    "This notebook is based on Kaggle solution https://www.kaggle.com/napetrov/tps04-svm-with-scikit-learn-intelex for  Tabular Playground Series - Apr 2021"
   ]
  },
  {
   "cell_type": "code",
   "execution_count": 2,
   "id": "d3f1fc47",
   "metadata": {},
   "outputs": [],
   "source": [
    "import os\n",
    "import numpy as np\n",
    "import pandas as pd\n",
    "\n",
    "import matplotlib.pyplot as plt\n",
    "\n",
    "from sklearn.svm import LinearSVC\n",
    "from sklearn.svm import SVC\n",
    "from sklearn.linear_model import SGDClassifier\n",
    "\n",
    "from sklearn.impute import SimpleImputer\n",
    "from sklearn.metrics import accuracy_score\n",
    "\n",
    "from sklearn.preprocessing import LabelEncoder\n",
    "from sklearn.preprocessing import OrdinalEncoder\n",
    "from sklearn.preprocessing import OneHotEncoder\n",
    "from sklearn.preprocessing import StandardScaler\n",
    "\n",
    "from sklearn.model_selection import KFold\n",
    "from sklearn.model_selection import train_test_split"
   ]
  },
  {
   "cell_type": "markdown",
   "id": "0885a820",
   "metadata": {},
   "source": [
    "Next set of cell read data and perform feature engineering operations"
   ]
  },
  {
   "cell_type": "code",
   "execution_count": 3,
   "id": "0820e64b",
   "metadata": {},
   "outputs": [],
   "source": [
    "train = pd.read_csv('./SVM/train.csv', index_col='PassengerId')\n",
    "test = pd.read_csv('./SVM/test.csv', index_col='PassengerId')\n",
    "\n",
    "target = train.pop('Survived')"
   ]
  },
  {
   "cell_type": "code",
   "execution_count": 4,
   "id": "2a2f6780",
   "metadata": {},
   "outputs": [],
   "source": [
    "train.drop(['Name', 'Ticket', 'Cabin'], axis=1, inplace=True)\n",
    "test.drop(['Name', 'Ticket', 'Cabin'], axis=1, inplace=True)"
   ]
  },
  {
   "cell_type": "code",
   "execution_count": 5,
   "id": "7ba3c105",
   "metadata": {},
   "outputs": [],
   "source": [
    "test_prepared = test.copy()\n",
    "train_prepared = train.copy()\n",
    "\n",
    "test_prepared['Age'].fillna((train['Age'].median()), inplace=True)\n",
    "train_prepared['Age'].fillna((train['Age'].median()), inplace=True)\n",
    "\n",
    "test_prepared['Fare'].fillna((train['Fare'].median()), inplace=True)\n",
    "train_prepared['Fare'].fillna((train['Fare'].median()), inplace=True)\n",
    "\n",
    "test_prepared['Embarked'].fillna('S', inplace=True)\n",
    "train_prepared['Embarked'].fillna('S', inplace=True)\n"
   ]
  },
  {
   "cell_type": "code",
   "execution_count": 6,
   "id": "acc555d0",
   "metadata": {},
   "outputs": [],
   "source": [
    "for col in ['Pclass', 'Sex', 'Embarked']:\n",
    "    le = LabelEncoder()\n",
    "    le.fit(train_prepared[col])\n",
    "    train_prepared[col] = le.transform(train_prepared[col])\n",
    "    test_prepared[col] = le.transform(test_prepared[col])"
   ]
  },
  {
   "cell_type": "code",
   "execution_count": 7,
   "id": "879f1085",
   "metadata": {},
   "outputs": [
    {
     "data": {
      "text/html": [
       "<div>\n",
       "<style scoped>\n",
       "    .dataframe tbody tr th:only-of-type {\n",
       "        vertical-align: middle;\n",
       "    }\n",
       "\n",
       "    .dataframe tbody tr th {\n",
       "        vertical-align: top;\n",
       "    }\n",
       "\n",
       "    .dataframe thead th {\n",
       "        text-align: right;\n",
       "    }\n",
       "</style>\n",
       "<table border=\"1\" class=\"dataframe\">\n",
       "  <thead>\n",
       "    <tr style=\"text-align: right;\">\n",
       "      <th></th>\n",
       "      <th>Pclass</th>\n",
       "      <th>Sex</th>\n",
       "      <th>Age</th>\n",
       "      <th>SibSp</th>\n",
       "      <th>Parch</th>\n",
       "      <th>Fare</th>\n",
       "      <th>Embarked</th>\n",
       "    </tr>\n",
       "    <tr>\n",
       "      <th>PassengerId</th>\n",
       "      <th></th>\n",
       "      <th></th>\n",
       "      <th></th>\n",
       "      <th></th>\n",
       "      <th></th>\n",
       "      <th></th>\n",
       "      <th></th>\n",
       "    </tr>\n",
       "  </thead>\n",
       "  <tbody>\n",
       "    <tr>\n",
       "      <th>0</th>\n",
       "      <td>0</td>\n",
       "      <td>1</td>\n",
       "      <td>39.00</td>\n",
       "      <td>2</td>\n",
       "      <td>0</td>\n",
       "      <td>27.14</td>\n",
       "      <td>2</td>\n",
       "    </tr>\n",
       "    <tr>\n",
       "      <th>1</th>\n",
       "      <td>2</td>\n",
       "      <td>1</td>\n",
       "      <td>39.00</td>\n",
       "      <td>0</td>\n",
       "      <td>0</td>\n",
       "      <td>13.35</td>\n",
       "      <td>2</td>\n",
       "    </tr>\n",
       "    <tr>\n",
       "      <th>2</th>\n",
       "      <td>2</td>\n",
       "      <td>1</td>\n",
       "      <td>0.33</td>\n",
       "      <td>1</td>\n",
       "      <td>2</td>\n",
       "      <td>71.29</td>\n",
       "      <td>2</td>\n",
       "    </tr>\n",
       "    <tr>\n",
       "      <th>3</th>\n",
       "      <td>2</td>\n",
       "      <td>1</td>\n",
       "      <td>19.00</td>\n",
       "      <td>0</td>\n",
       "      <td>0</td>\n",
       "      <td>13.04</td>\n",
       "      <td>2</td>\n",
       "    </tr>\n",
       "    <tr>\n",
       "      <th>4</th>\n",
       "      <td>2</td>\n",
       "      <td>1</td>\n",
       "      <td>25.00</td>\n",
       "      <td>0</td>\n",
       "      <td>0</td>\n",
       "      <td>7.76</td>\n",
       "      <td>2</td>\n",
       "    </tr>\n",
       "  </tbody>\n",
       "</table>\n",
       "</div>"
      ],
      "text/plain": [
       "             Pclass  Sex    Age  SibSp  Parch   Fare  Embarked\n",
       "PassengerId                                                   \n",
       "0                 0    1  39.00      2      0  27.14         2\n",
       "1                 2    1  39.00      0      0  13.35         2\n",
       "2                 2    1   0.33      1      2  71.29         2\n",
       "3                 2    1  19.00      0      0  13.04         2\n",
       "4                 2    1  25.00      0      0   7.76         2"
      ]
     },
     "execution_count": 7,
     "metadata": {},
     "output_type": "execute_result"
    }
   ],
   "source": [
    "train_prepared.head()\n"
   ]
  },
  {
   "cell_type": "code",
   "execution_count": 8,
   "id": "cb4bc9e2",
   "metadata": {},
   "outputs": [],
   "source": [
    "train_prepared_scaled = train_prepared.copy()\n",
    "test_prepared_scaled = test_prepared.copy()\n",
    "\n",
    "scaler = StandardScaler()\n",
    "scaler.fit(train_prepared)\n",
    "train_prepared_scaled = scaler.transform(train_prepared_scaled)\n",
    "test_prepared_scaled = scaler.transform(test_prepared_scaled)\n",
    "\n",
    "train_prepared_scaled = pd.DataFrame(train_prepared_scaled, columns=train_prepared.columns)\n",
    "test_prepared_scaled = pd.DataFrame(test_prepared_scaled, columns=train_prepared.columns)\n"
   ]
  },
  {
   "cell_type": "code",
   "execution_count": 9,
   "id": "a9168ffb",
   "metadata": {},
   "outputs": [],
   "source": [
    "X_train, X_valid, y_train, y_valid = train_test_split(train_prepared_scaled, target, test_size=0.1, random_state=0)"
   ]
  },
  {
   "cell_type": "markdown",
   "id": "32c90171",
   "metadata": {},
   "source": [
    "And here we start training for SVM with RBF kernel. Code cell have timing integrated and you can see noticeable time reduction around 10x for 2 core system"
   ]
  },
  {
   "cell_type": "code",
   "execution_count": 10,
   "id": "61033da1",
   "metadata": {},
   "outputs": [
    {
     "name": "stdout",
     "output_type": "stream",
     "text": [
      "CPU times: user 1min 11s, sys: 1.26 s, total: 1min 12s\n",
      "Wall time: 1min 12s\n"
     ]
    },
    {
     "data": {
      "text/plain": [
       "0.7613"
      ]
     },
     "execution_count": 10,
     "metadata": {},
     "output_type": "execute_result"
    }
   ],
   "source": [
    "%%time\n",
    "svc_kernel_rbf = SVC(kernel='rbf', random_state=0, C=0.01)\n",
    "svc_kernel_rbf.fit(X_train, y_train)\n",
    "y_pred = svc_kernel_rbf.predict(X_valid)\n",
    "accuracy_score(y_pred, y_valid)"
   ]
  },
  {
   "cell_type": "markdown",
   "id": "19563556",
   "metadata": {},
   "source": [
    "For SVM prediction we observe even greater acceleration - around 20x improvement on 2 cores system"
   ]
  },
  {
   "cell_type": "code",
   "execution_count": 11,
   "id": "1b5c13e3",
   "metadata": {},
   "outputs": [
    {
     "name": "stdout",
     "output_type": "stream",
     "text": [
      "CPU times: user 16 s, sys: 20.3 ms, total: 16 s\n",
      "Wall time: 16 s\n"
     ]
    }
   ],
   "source": [
    "%%time\n",
    "final_pred = svc_kernel_rbf.predict(test_prepared_scaled)"
   ]
  },
  {
   "cell_type": "markdown",
   "id": "2a25b2b9",
   "metadata": {},
   "source": [
    "With such dramatic acceleration we now can perform hyperparameters search in reasonable time!"
   ]
  },
  {
   "cell_type": "code",
   "execution_count": 12,
   "id": "ffcfe8b8",
   "metadata": {},
   "outputs": [
    {
     "name": "stdout",
     "output_type": "stream",
     "text": [
      "Running Fold 1\n",
      "  Accuracy: 0.5406\n",
      "Running Fold 2\n",
      "  Accuracy: 0.7649\n",
      "Running Fold 3\n",
      "  Accuracy: 0.6269\n",
      "Running Fold 4\n",
      "  Accuracy: 0.7681\n",
      "Running Fold 5\n",
      "  Accuracy: 0.7622\n",
      "Running Fold 6\n",
      "  Accuracy: 0.7653\n",
      "Running Fold 7\n",
      "  Accuracy: 0.768\n",
      "Running Fold 8\n",
      "  Accuracy: 0.7692\n",
      "Running Fold 9\n",
      "  Accuracy: 0.7653\n",
      "Running Fold 10\n",
      "  Accuracy: 0.7674\n",
      "\n",
      "Done!\n",
      "CPU times: user 11min 50s, sys: 9.01 s, total: 11min 59s\n",
      "Wall time: 11min 58s\n"
     ]
    }
   ],
   "source": [
    "%%time\n",
    "n_folds = 10\n",
    "kf = KFold(n_splits=n_folds, shuffle=True, random_state=0)\n",
    "y_pred = np.zeros(test.shape[0])\n",
    "\n",
    "for fold, (train_index, valid_index) in enumerate(kf.split(train_prepared_scaled, target)):\n",
    "    print(\"Running Fold {}\".format(fold + 1))\n",
    "    X_train, X_valid = pd.DataFrame(train_prepared_scaled.iloc[train_index]), pd.DataFrame(train_prepared_scaled.iloc[valid_index])\n",
    "    y_train, y_valid = target.iloc[train_index], target.iloc[valid_index]\n",
    "    svc_kernel_rbf = SVC(kernel='rbf', random_state=0, C=0.01)\n",
    "    svc_kernel_rbf.fit(X_train, y_train)\n",
    "    print(\"  Accuracy: {}\".format(accuracy_score(y_valid, svc_kernel_rbf.predict(X_valid))))\n",
    "    y_pred += svc_kernel_rbf.predict(test_prepared_scaled)\n",
    "\n",
    "y_pred /= n_folds\n",
    "\n",
    "print(\"\")\n",
    "print(\"Done!\")"
   ]
  }
 ],
 "metadata": {
  "kernelspec": {
   "display_name": "Python 3 (ipykernel)",
   "language": "python",
   "name": "python3"
  },
  "language_info": {
   "codemirror_mode": {
    "name": "ipython",
    "version": 3
   },
   "file_extension": ".py",
   "mimetype": "text/x-python",
   "name": "python",
   "nbconvert_exporter": "python",
   "pygments_lexer": "ipython3",
   "version": "3.7.10"
  }
 },
 "nbformat": 4,
 "nbformat_minor": 5
}
