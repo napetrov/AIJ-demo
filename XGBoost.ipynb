{
 "cells": [
  {
   "cell_type": "markdown",
   "id": "45b87e80",
   "metadata": {},
   "source": [
    "\n",
    "## Optimizing XGBoost Training Performance\n",
    "https://medium.com/intel-analytics-software/new-optimizations-for-cpu-in-xgboost-1-1-81144ea21115\n",
    "\n",
    "Unlike with Scikit-learn optimizations that requere extra actions, XGBoost optmizations are upstremed to XGBost master and available in public releases. There is no need for additional actions here.\n",
    "\n",
    "<img src=\"./XGBoost/boosting.png\" alt=\"Ongoing XGBoost optimizations\" title=\"Ongoing XGBoost optimizations\" />\n",
    "\n",
    "Althought it might be important to tune params\n",
    "\n",
    "One of options - try using 'hist' method\n"
   ]
  },
  {
   "cell_type": "code",
   "execution_count": 1,
   "id": "b9eaac49",
   "metadata": {},
   "outputs": [],
   "source": [
    "import xgboost as xgb\n",
    "import numpy as np # linear algebra\n",
    "import pandas as pd # data processing, CSV file I/O (e.g. pd.read_csv)\n"
   ]
  },
  {
   "cell_type": "code",
   "execution_count": 2,
   "id": "95ffa24a",
   "metadata": {},
   "outputs": [],
   "source": [
    "# Path to data\n",
    "train_file = \"./XGBoost/df_classification_train.csv\"\n",
    "test_file = \"./XGBoost/df_classification_test.csv\"\n",
    "\n",
    "def readcsv(f, c=None, t=np.float64):\n",
    "    return pd.read_csv(f, usecols=c, delimiter=',', header=None, dtype=t)"
   ]
  },
  {
   "cell_type": "code",
   "execution_count": 3,
   "id": "71ea22ef",
   "metadata": {},
   "outputs": [],
   "source": [
    "# Data reading\n",
    "X_train = readcsv(train_file, range(3), t=np.float32)\n",
    "y_train = readcsv(train_file, range(3, 4), t=np.float32)\n",
    "X_test = readcsv(test_file, range(3), t=np.float32)\n",
    "y_test = readcsv(test_file, range(3, 4), t=np.float32)\n",
    "\n",
    "xgb_train = xgb.DMatrix(X_train, label=np.array(y_train))\n",
    "xgb_test = xgb.DMatrix(X_test, label=np.array(y_test))"
   ]
  },
  {
   "cell_type": "code",
   "execution_count": 4,
   "id": "9be2abae",
   "metadata": {},
   "outputs": [],
   "source": [
    "# training parameters setting\n",
    "params = {\n",
    "    'num_class': 5,\n",
    "}"
   ]
  },
  {
   "cell_type": "code",
   "execution_count": 5,
   "id": "033a71b8",
   "metadata": {},
   "outputs": [
    {
     "name": "stdout",
     "output_type": "stream",
     "text": [
      "[12:32:03] WARNING: /localdisk/tools/tc/agent2/work/30ccf72606c6a49e/base/conda-bld/xgboost_1623788730212/work/src/learner.cc:1096: Starting in XGBoost 1.3.0, the default evaluation metric used with the objective 'multi:softmax' was changed from 'merror' to 'mlogloss'. Explicitly set eval_metric if you'd like to restore the old behavior.\n",
      "CPU times: user 36.1 s, sys: 753 ms, total: 36.8 s\n",
      "Wall time: 35.7 s\n"
     ]
    }
   ],
   "source": [
    "%%time\n",
    "xgb_model = xgb.train(params, xgb_train, num_boost_round=100)"
   ]
  },
  {
   "cell_type": "code",
   "execution_count": 6,
   "id": "92d8b24b",
   "metadata": {},
   "outputs": [],
   "source": [
    "# training parameters setting\n",
    "params = {\n",
    "    'tree_method': 'hist',\n",
    "    'num_class': 5,\n",
    "}"
   ]
  },
  {
   "cell_type": "code",
   "execution_count": 7,
   "id": "2daff3ca",
   "metadata": {},
   "outputs": [
    {
     "name": "stdout",
     "output_type": "stream",
     "text": [
      "[12:32:38] WARNING: /localdisk/tools/tc/agent2/work/30ccf72606c6a49e/base/conda-bld/xgboost_1623788730212/work/src/learner.cc:1096: Starting in XGBoost 1.3.0, the default evaluation metric used with the objective 'multi:softmax' was changed from 'merror' to 'mlogloss'. Explicitly set eval_metric if you'd like to restore the old behavior.\n",
      "CPU times: user 5.41 s, sys: 137 ms, total: 5.55 s\n",
      "Wall time: 5.4 s\n"
     ]
    }
   ],
   "source": [
    "%%time\n",
    "xgb_model = xgb.train(params, xgb_train, num_boost_round=100)"
   ]
  }
 ],
 "metadata": {
  "kernelspec": {
   "display_name": "Python 3 (ipykernel)",
   "language": "python",
   "name": "python3"
  },
  "language_info": {
   "codemirror_mode": {
    "name": "ipython",
    "version": 3
   },
   "file_extension": ".py",
   "mimetype": "text/x-python",
   "name": "python",
   "nbconvert_exporter": "python",
   "pygments_lexer": "ipython3",
   "version": "3.7.10"
  }
 },
 "nbformat": 4,
 "nbformat_minor": 5
}
